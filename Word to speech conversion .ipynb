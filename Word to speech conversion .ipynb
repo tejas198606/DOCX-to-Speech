{
 "cells": [
  {
   "cell_type": "code",
   "execution_count": 16,
   "id": "fbeaacef",
   "metadata": {},
   "outputs": [],
   "source": [
    "import pyttsx3\n",
    "from gtts import gTTS"
   ]
  },
  {
   "cell_type": "code",
   "execution_count": null,
   "id": "5749d020",
   "metadata": {},
   "outputs": [],
   "source": [
    "from playsound import playsound\n",
    "# initialisation\n",
    "text_speech = pyttsx3.init()\n",
    "answer = input('What you want to convert to speech: ')\n",
    "text_speech.say(answer)\n",
    "text_speech.runAndWait()"
   ]
  },
  {
   "cell_type": "code",
   "execution_count": null,
   "id": "b076b020",
   "metadata": {},
   "outputs": [],
   "source": []
  },
  {
   "cell_type": "markdown",
   "id": "f77412c4",
   "metadata": {},
   "source": [
    "## Word to Speech conversion"
   ]
  },
  {
   "cell_type": "code",
   "execution_count": 17,
   "id": "653039d8",
   "metadata": {},
   "outputs": [
    {
     "name": "stdout",
     "output_type": "stream",
     "text": [
      "To work with Diligent Data Scientist having 4+yrs experience in industry and overall 12+ yrs experience with domain knowledge in Telecom industry. Using internal data processing for increasing efficiency , accuracy and utility .Experienced at creating data regression models predictive data modeling and analyzing data mining algorithm to deliver insights and taking proper action for complex business problem\n",
      "\n",
      "\n",
      "\n",
      "\tSeeking an opportunity to leverage my diverse skills and experience as to utilize my skills for both organization and individual growth.\n"
     ]
    }
   ],
   "source": [
    "import docx2txt\n",
    "my_text = docx2txt.process(\"C:/Users/Tejas/word file.docx\")\n",
    "print(my_text)\n",
    "text_speech = pyttsx3.init()\n",
    "text_speech.say(my_text)\n",
    "text_speech.runAndWait()"
   ]
  },
  {
   "cell_type": "code",
   "execution_count": 18,
   "id": "678f95a7",
   "metadata": {},
   "outputs": [],
   "source": [
    "tts = gTTS(my_text, lang='en')\n",
    "tts.save(\"story1.mp3\")"
   ]
  },
  {
   "cell_type": "code",
   "execution_count": null,
   "id": "772bafc1",
   "metadata": {},
   "outputs": [],
   "source": []
  },
  {
   "cell_type": "code",
   "execution_count": null,
   "id": "9f9b1c6c",
   "metadata": {},
   "outputs": [],
   "source": []
  }
 ],
 "metadata": {
  "kernelspec": {
   "display_name": "Python 3 (ipykernel)",
   "language": "python",
   "name": "python3"
  },
  "language_info": {
   "codemirror_mode": {
    "name": "ipython",
    "version": 3
   },
   "file_extension": ".py",
   "mimetype": "text/x-python",
   "name": "python",
   "nbconvert_exporter": "python",
   "pygments_lexer": "ipython3",
   "version": "3.7.3"
  }
 },
 "nbformat": 4,
 "nbformat_minor": 5
}
